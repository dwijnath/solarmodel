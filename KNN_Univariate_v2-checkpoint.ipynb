{
 "cells": [
  {
   "cell_type": "code",
   "execution_count": 233,
   "metadata": {},
   "outputs": [],
   "source": [
    "import pandas as pd\n",
    "from pandas import read_csv\n",
    "import numpy as np\n",
    "from numpy import array\n",
    "from datetime import datetime\n",
    "import seaborn as sns\n",
    "import matplotlib.pylab as plt\n",
    "from statsmodels.tsa.stattools import adfuller\n",
    "from statsmodels.graphics.tsaplots import plot_acf, plot_pacf\n",
    "from statsmodels.tsa.statespace.sarimax import SARIMAX\n",
    "from tqdm import tqdm_notebook\n",
    "from tqdm.notebook import tqdm\n",
    "from itertools import product\n",
    "import warnings\n",
    "from statsmodels.tools.sm_exceptions import ConvergenceWarning\n",
    "from statsmodels.tsa.seasonal import seasonal_decompose\n",
    "from keras.models import Sequential\n",
    "from keras.layers import LSTM\n",
    "from keras.layers import Dense\n",
    "from sklearn.preprocessing import MinMaxScaler\n",
    "from pandas import DataFrame\n",
    "from pandas import concat\n",
    "from sklearn.preprocessing import LabelEncoder\n",
    "from numpy import concatenate\n",
    "from sklearn import neighbors\n",
    "from tslearn.neighbors import KNeighborsTimeSeries\n",
    "from tslearn.neighbors import KNeighborsTimeSeriesClassifier\n",
    "from tslearn.neighbors import KNeighborsTimeSeriesRegressor"
   ]
  },
  {
   "cell_type": "code",
   "execution_count": 234,
   "metadata": {},
   "outputs": [],
   "source": [
    "# Input Configuration\n",
    "# 1. Path where input file is stored\n",
    "filepath = \"C:/Users/patil/Desktop/Ganesh's Area/For paper/forpaperdataandscripts/0. From DD/0. From DD/Combined Dataset_v1.csv\"\n",
    "\n",
    "# 2. Row number of starting month\n",
    "startrow_training = 0\n",
    "endrow_training = 72\n",
    "startrow_test = 72\n",
    "endrow_test = 84\n",
    "\n",
    "# 3. Dependent variable name\n",
    "dependent_var = \"AD_Daily_Avg_SR\"\n",
    "\n",
    "# 4. Number of KNN time steps \n",
    "n_steps = 3"
   ]
  },
  {
   "cell_type": "code",
   "execution_count": 236,
   "metadata": {},
   "outputs": [
    {
     "data": {
      "text/html": [
       "<div>\n",
       "<style scoped>\n",
       "    .dataframe tbody tr th:only-of-type {\n",
       "        vertical-align: middle;\n",
       "    }\n",
       "\n",
       "    .dataframe tbody tr th {\n",
       "        vertical-align: top;\n",
       "    }\n",
       "\n",
       "    .dataframe thead th {\n",
       "        text-align: right;\n",
       "    }\n",
       "</style>\n",
       "<table border=\"1\" class=\"dataframe\">\n",
       "  <thead>\n",
       "    <tr style=\"text-align: right;\">\n",
       "      <th></th>\n",
       "      <th>Day</th>\n",
       "      <th>Month</th>\n",
       "      <th>Year</th>\n",
       "      <th>Month_Year</th>\n",
       "      <th>AD_Daily_Avg_SR</th>\n",
       "      <th>DXB_Daily_Avg_SR</th>\n",
       "      <th>AD_Sunshine_Hours</th>\n",
       "      <th>DXB_Sunshine_Hours</th>\n",
       "      <th>AD_UV_Radiation</th>\n",
       "    </tr>\n",
       "    <tr>\n",
       "      <th>Month_Year</th>\n",
       "      <th></th>\n",
       "      <th></th>\n",
       "      <th></th>\n",
       "      <th></th>\n",
       "      <th></th>\n",
       "      <th></th>\n",
       "      <th></th>\n",
       "      <th></th>\n",
       "      <th></th>\n",
       "    </tr>\n",
       "  </thead>\n",
       "  <tbody>\n",
       "    <tr>\n",
       "      <td>1-Jan-2013</td>\n",
       "      <td>1</td>\n",
       "      <td>Jan</td>\n",
       "      <td>2013</td>\n",
       "      <td>1-Jan-2013</td>\n",
       "      <td>4342.58</td>\n",
       "      <td>4369.61</td>\n",
       "      <td>7.96</td>\n",
       "      <td>8.60</td>\n",
       "      <td>NaN</td>\n",
       "    </tr>\n",
       "    <tr>\n",
       "      <td>1-Feb-2013</td>\n",
       "      <td>1</td>\n",
       "      <td>Feb</td>\n",
       "      <td>2013</td>\n",
       "      <td>1-Feb-2013</td>\n",
       "      <td>5370.00</td>\n",
       "      <td>5295.68</td>\n",
       "      <td>8.88</td>\n",
       "      <td>9.03</td>\n",
       "      <td>NaN</td>\n",
       "    </tr>\n",
       "    <tr>\n",
       "      <td>1-Mar-2013</td>\n",
       "      <td>1</td>\n",
       "      <td>Mar</td>\n",
       "      <td>2013</td>\n",
       "      <td>1-Mar-2013</td>\n",
       "      <td>6360.97</td>\n",
       "      <td>6308.74</td>\n",
       "      <td>8.79</td>\n",
       "      <td>9.84</td>\n",
       "      <td>NaN</td>\n",
       "    </tr>\n",
       "    <tr>\n",
       "      <td>1-Apr-2013</td>\n",
       "      <td>1</td>\n",
       "      <td>Apr</td>\n",
       "      <td>2013</td>\n",
       "      <td>1-Apr-2013</td>\n",
       "      <td>5955.33</td>\n",
       "      <td>6227.77</td>\n",
       "      <td>8.21</td>\n",
       "      <td>10.33</td>\n",
       "      <td>NaN</td>\n",
       "    </tr>\n",
       "    <tr>\n",
       "      <td>1-May-2013</td>\n",
       "      <td>1</td>\n",
       "      <td>May</td>\n",
       "      <td>2013</td>\n",
       "      <td>1-May-2013</td>\n",
       "      <td>7551.61</td>\n",
       "      <td>7549.61</td>\n",
       "      <td>10.65</td>\n",
       "      <td>11.21</td>\n",
       "      <td>NaN</td>\n",
       "    </tr>\n",
       "  </tbody>\n",
       "</table>\n",
       "</div>"
      ],
      "text/plain": [
       "            Day Month  Year  Month_Year  AD_Daily_Avg_SR  DXB_Daily_Avg_SR  \\\n",
       "Month_Year                                                                   \n",
       "1-Jan-2013    1   Jan  2013  1-Jan-2013          4342.58           4369.61   \n",
       "1-Feb-2013    1   Feb  2013  1-Feb-2013          5370.00           5295.68   \n",
       "1-Mar-2013    1   Mar  2013  1-Mar-2013          6360.97           6308.74   \n",
       "1-Apr-2013    1   Apr  2013  1-Apr-2013          5955.33           6227.77   \n",
       "1-May-2013    1   May  2013  1-May-2013          7551.61           7549.61   \n",
       "\n",
       "            AD_Sunshine_Hours  DXB_Sunshine_Hours  AD_UV_Radiation  \n",
       "Month_Year                                                          \n",
       "1-Jan-2013               7.96                8.60              NaN  \n",
       "1-Feb-2013               8.88                9.03              NaN  \n",
       "1-Mar-2013               8.79                9.84              NaN  \n",
       "1-Apr-2013               8.21               10.33              NaN  \n",
       "1-May-2013              10.65               11.21              NaN  "
      ]
     },
     "execution_count": 236,
     "metadata": {},
     "output_type": "execute_result"
    }
   ],
   "source": [
    "df = pd.read_csv(filepath)\n",
    "df.index.name = 'Month_Year'\n",
    "df.set_index(df['Month_Year'], inplace=True)\n",
    "df.head()"
   ]
  },
  {
   "cell_type": "code",
   "execution_count": 10,
   "metadata": {},
   "outputs": [
    {
     "data": {
      "text/plain": [
       "Month_Year\n",
       "1-Jan-2014    4134.52\n",
       "1-Feb-2014    5231.07\n",
       "1-Mar-2014    5980.32\n",
       "1-Apr-2014    7246.67\n",
       "1-May-2014    7568.06\n",
       "1-Jun-2014    7823.67\n",
       "1-Jul-2014    7326.13\n",
       "1-Aug-2014    7048.71\n",
       "1-Sep-2014    6623.00\n",
       "1-Oct-2014    5781.94\n",
       "1-Nov-2014    4839.00\n",
       "1-Dec-2014    4322.26\n",
       "1-Jan-2015    4520.00\n",
       "1-Feb-2015    5386.00\n",
       "1-Mar-2015    6060.00\n",
       "1-Apr-2015    7128.00\n",
       "1-May-2015    7467.00\n",
       "1-Jun-2015    7643.00\n",
       "1-Jul-2015    7191.00\n",
       "1-Aug-2015    7193.00\n",
       "1-Sep-2015    6578.00\n",
       "1-Oct-2015    5732.00\n",
       "1-Nov-2015    4724.00\n",
       "1-Dec-2015    4148.71\n",
       "1-Jan-2016    4390.00\n",
       "1-Feb-2016    5232.00\n",
       "1-Mar-2016    5440.00\n",
       "1-Apr-2016    6613.00\n",
       "1-May-2016    7690.00\n",
       "1-Jun-2016    7770.00\n",
       "1-Jul-2016    7250.00\n",
       "1-Aug-2016    7738.00\n",
       "1-Sep-2016    8191.00\n",
       "1-Oct-2016    7092.00\n",
       "1-Nov-2016    6046.00\n",
       "1-Dec-2016    5330.00\n",
       "1-Jan-2017    5526.00\n",
       "1-Feb-2017    4935.00\n",
       "1-Mar-2017    5776.00\n",
       "1-Apr-2017    7364.00\n",
       "1-May-2017    7721.00\n",
       "1-Jun-2017    7833.00\n",
       "1-Jul-2017    7283.00\n",
       "1-Aug-2017    7178.00\n",
       "1-Sep-2017    6519.00\n",
       "1-Oct-2017    5777.00\n",
       "1-Nov-2017    4858.00\n",
       "1-Dec-2017    4240.00\n",
       "1-Jan-2018    4450.00\n",
       "1-Feb-2018    5128.00\n",
       "1-Mar-2018    6533.00\n",
       "1-Apr-2018    6927.00\n",
       "1-May-2018    7278.00\n",
       "1-Jun-2018    7806.00\n",
       "1-Jul-2018    7025.00\n",
       "1-Aug-2018    6920.00\n",
       "1-Sep-2018    6640.00\n",
       "1-Oct-2018    5490.00\n",
       "1-Nov-2018    4690.00\n",
       "1-Dec-2018    4377.00\n",
       "Name: AD_Daily_Avg_SR, dtype: float64"
      ]
     },
     "execution_count": 10,
     "metadata": {},
     "output_type": "execute_result"
    }
   ],
   "source": [
    "# Divide the data into train and test datasets\n",
    "train = df[dependent_var][startrow_training:endrow_training]\n",
    "test = df[dependent_var][startrow_test:endrow_test]\n",
    "train"
   ]
  },
  {
   "cell_type": "code",
   "execution_count": 237,
   "metadata": {},
   "outputs": [],
   "source": [
    "def split_sequence(sequence, n_steps):\n",
    "    X, y = list(), list()\n",
    "    for i in range(len(sequence)):\n",
    "        # find the end of this pattern\n",
    "        end_ix = i + n_steps\n",
    "        # check if we are beyond the sequence\n",
    "        if end_ix > len(sequence)-1:\n",
    "            break\n",
    "        # gather input and output parts of the pattern\n",
    "        seq_x, seq_y = sequence[i:end_ix], sequence[end_ix]\n",
    "        X.append(seq_x)\n",
    "        y.append(seq_y)\n",
    "    return array(X), array(y)"
   ]
  },
  {
   "cell_type": "code",
   "execution_count": 238,
   "metadata": {},
   "outputs": [],
   "source": [
    "colindex = df.columns.get_loc(dependent_var)\n",
    "train_processed = df.iloc[startrow_training:endrow_training, colindex:colindex+1].values\n",
    "#train_processed"
   ]
  },
  {
   "cell_type": "code",
   "execution_count": 242,
   "metadata": {
    "scrolled": false
   },
   "outputs": [
    {
     "name": "stdout",
     "output_type": "stream",
     "text": [
      "X:  (57, 3, 1)\n",
      "Y: (57, 1)\n"
     ]
    }
   ],
   "source": [
    "X, y = split_sequence(train_processed, n_steps)\n",
    "print(\"X: \", X.shape)\n",
    "print(\"Y:\", y.shape)"
   ]
  },
  {
   "cell_type": "code",
   "execution_count": 243,
   "metadata": {},
   "outputs": [
    {
     "data": {
      "text/plain": [
       "KNeighborsTimeSeriesRegressor(metric='dtw', metric_params=None, n_jobs=None,\n",
       "                              n_neighbors=2, verbose=0, weights='uniform')"
      ]
     },
     "execution_count": 243,
     "metadata": {},
     "output_type": "execute_result"
    }
   ],
   "source": [
    "knn = KNeighborsTimeSeriesRegressor(n_neighbors=2, metric='dtw')\n",
    "knn.fit(X, y)"
   ]
  },
  {
   "cell_type": "code",
   "execution_count": 244,
   "metadata": {},
   "outputs": [],
   "source": [
    "Knn_predictions_train = knn.predict(X)"
   ]
  },
  {
   "cell_type": "code",
   "execution_count": 245,
   "metadata": {},
   "outputs": [
    {
     "data": {
      "image/png": "[encoded data removed]",
      "text/plain": [
       "<Figure size 432x288 with 1 Axes>"
      ]
     },
     "metadata": {
      "needs_background": "light"
     },
     "output_type": "display_data"
    }
   ],
   "source": [
    "plt.plot(Knn_predictions_train,label='prediction')\n",
    "plt.plot(y,color='red',label='actual')\n",
    "plt.ylabel(dependent_var)\n",
    "plt.xlabel('Month')\n",
    "plt.legend()\n",
    "plt.show()"
   ]
  },
  {
   "cell_type": "code",
   "execution_count": 247,
   "metadata": {},
   "outputs": [
    {
     "data": {
      "text/plain": [
       "{'mape': 0.03305097258923317,\n",
       " 'me': 8.284824561403552,\n",
       " 'mae': 203.3951754385965,\n",
       " 'mpe': 0.00366251197072989,\n",
       " 'rmse': 331.0096551799787,\n",
       " 'corr': nan}"
      ]
     },
     "execution_count": 247,
     "metadata": {},
     "output_type": "execute_result"
    }
   ],
   "source": [
    "def forecast_accuracy(forecast, actual):\n",
    "    mape = np.mean(np.abs(forecast - actual)/np.abs(actual))  # MAPE\n",
    "    me = np.mean(forecast - actual)             # ME\n",
    "    mae = np.mean(np.abs(forecast - actual))    # MAE\n",
    "    mpe = np.mean((forecast - actual)/actual)   # MPE\n",
    "    rmse = np.mean((forecast - actual)**2)**.5  # RMSE\n",
    "    corr = np.corrcoef(forecast, actual)[0,1]   # corr\n",
    "    \n",
    "    return({'mape':mape, 'me':me, 'mae': mae, \n",
    "            'mpe': mpe, 'rmse':rmse, \n",
    "            'corr':corr})\n",
    "\n",
    "forecast_accuracy(Knn_predictions_train, y)"
   ]
  },
  {
   "cell_type": "code",
   "execution_count": 253,
   "metadata": {},
   "outputs": [
    {
     "data": {
      "text/plain": [
       "array([[5490.],\n",
       "       [4690.],\n",
       "       [4377.],\n",
       "       [4535.],\n",
       "       [4829.],\n",
       "       [5606.],\n",
       "       [6406.],\n",
       "       [7516.],\n",
       "       [7680.],\n",
       "       [7251.],\n",
       "       [6997.],\n",
       "       [6471.],\n",
       "       [5662.],\n",
       "       [4527.],\n",
       "       [4037.]])"
      ]
     },
     "execution_count": 253,
     "metadata": {},
     "output_type": "execute_result"
    }
   ],
   "source": [
    "test_inputs_act_knn = df[dependent_var][startrow_test - n_steps:endrow_test].values\n",
    "test_inputs_act_knn = test_inputs_act_knn.reshape(-1,1)\n",
    "#test_inputs_act_knn = scaler.transform(test_inputs_act_knn)\n",
    "test_inputs_act_knn"
   ]
  },
  {
   "cell_type": "code",
   "execution_count": 254,
   "metadata": {},
   "outputs": [
    {
     "data": {
      "text/plain": [
       "(15, 1)"
      ]
     },
     "execution_count": 254,
     "metadata": {},
     "output_type": "execute_result"
    }
   ],
   "source": [
    "test_inputs_act_knn.shape"
   ]
  },
  {
   "cell_type": "code",
   "execution_count": 257,
   "metadata": {},
   "outputs": [
    {
     "data": {
      "text/plain": [
       "[array([5490., 4690., 4377.]),\n",
       " array([4690., 4377., 4535.]),\n",
       " array([4377., 4535., 4829.]),\n",
       " array([4535., 4829., 5606.]),\n",
       " array([4829., 5606., 6406.]),\n",
       " array([5606., 6406., 7516.]),\n",
       " array([6406., 7516., 7680.]),\n",
       " array([7516., 7680., 7251.]),\n",
       " array([7680., 7251., 6997.]),\n",
       " array([7251., 6997., 6471.]),\n",
       " array([6997., 6471., 5662.]),\n",
       " array([6471., 5662., 4527.])]"
      ]
     },
     "execution_count": 257,
     "metadata": {},
     "output_type": "execute_result"
    }
   ],
   "source": [
    "test_features_act_knn = []\n",
    "for i in range(n_steps, test_inputs_act_knn.shape[0]):\n",
    "    test_features_act_knn.append(test_inputs_act_knn[i-n_steps:i, 0])\n",
    "test_features_act_knn"
   ]
  },
  {
   "cell_type": "code",
   "execution_count": 269,
   "metadata": {},
   "outputs": [
    {
     "data": {
      "text/plain": [
       "(12, 1)"
      ]
     },
     "execution_count": 269,
     "metadata": {},
     "output_type": "execute_result"
    }
   ],
   "source": [
    "prediction_test_act = knn.predict(test_features_act_knn)\n",
    "prediction_test_act.shape\n",
    "print(\"Test Output\",prediction_test_act)"
   ]
  },
  {
   "cell_type": "code",
   "execution_count": 259,
   "metadata": {},
   "outputs": [
    {
     "data": {
      "image/png": "[encoded data removed]",
      "text/plain": [
       "<Figure size 432x288 with 1 Axes>"
      ]
     },
     "metadata": {
      "needs_background": "light"
     },
     "output_type": "display_data"
    }
   ],
   "source": [
    "test_data = df[dependent_var][startrow_test:endrow_test].values\n",
    "plt.plot(prediction_test_act,label='prediction')\n",
    "plt.plot(test_data,color='red',label='actual')\n",
    "plt.ylabel([dependent_var])\n",
    "plt.xlabel('Months')\n",
    "plt.legend()\n",
    "plt.show()"
   ]
  },
  {
   "cell_type": "code",
   "execution_count": 268,
   "metadata": {},
   "outputs": [
    {
     "data": {
      "text/plain": [
       "{'mape': 0.0358598575105928,\n",
       " 'me': 121.59666666666658,\n",
       " 'mae': 193.17999999999992,\n",
       " 'mpe': 0.02474830976423062,\n",
       " 'rmse': 229.76470376416236,\n",
       " 'corr': nan}"
      ]
     },
     "execution_count": 268,
     "metadata": {},
     "output_type": "execute_result"
    }
   ],
   "source": [
    "test_data = test_data.reshape(12,1)\n",
    "forecast_accuracy(prediction_test_act, test_data)"
   ]
  },
  {
   "cell_type": "code",
   "execution_count": 274,
   "metadata": {},
   "outputs": [
    {
     "name": "stdout",
     "output_type": "stream",
     "text": [
      "Test Output [4455.0, 5257.0, 6296.5, 7027.5, 7372.5, 7724.5, 7108.0, 7056.5, 6609.0, 5611.0, 4781.5, 4262.855, 4420.0, 5257.0, 5986.5, 7187.335, 7517.530000000001, 7733.335, 7258.5650000000005, 7120.855, 6571.0, 5754.5, 4791.0, 4235.485000000001]\n"
     ]
    }
   ],
   "source": [
    "# Now predict the values for 24 months post training period - 12 months testing period for which we have actual values\n",
    "# are available for comparison and 12 months post testing period as a forecast\n",
    "test_output1 = []\n",
    "test_inputs1 = train[-n_steps:].tolist()\n",
    "prediction_test1 = knn.predict(test_inputs1)\n",
    "test_inputs2 = test_inputs1.copy()\n",
    "test_output1.append(prediction_test1[0][0])\n",
    "\n",
    "for i in range(1, 24):\n",
    "    test_inputs2.pop(0)\n",
    "    test_inputs2.append(prediction_test1[0][0])\n",
    "    prediction_test1 = knn.predict(test_inputs2)\n",
    "    test_output1.append(prediction_test1[0][0])\n",
    "\n",
    "print(\"Test Output\",test_output1)"
   ]
  },
  {
   "cell_type": "code",
   "execution_count": 275,
   "metadata": {},
   "outputs": [
    {
     "data": {
      "image/png": "[encoded data removed]",
      "text/plain": [
       "<Figure size 432x288 with 1 Axes>"
      ]
     },
     "metadata": {
      "needs_background": "light"
     },
     "output_type": "display_data"
    }
   ],
   "source": [
    "test_data = df[dependent_var][startrow_test:endrow_test].values\n",
    "plt.plot(test_output1,label='prediction')\n",
    "plt.plot(test_data,color='red',label='actual')\n",
    "plt.ylabel([dependent_var])\n",
    "plt.xlabel('Months')\n",
    "plt.legend()\n",
    "plt.show()"
   ]
  },
  {
   "cell_type": "code",
   "execution_count": 278,
   "metadata": {},
   "outputs": [
    {
     "data": {
      "text/plain": [
       "{'mape': 0.04350596201760933,\n",
       " 'me': 170.4045833333333,\n",
       " 'mae': 239.98791666666662,\n",
       " 'mpe': 0.03259562678831412,\n",
       " 'rmse': 321.0171310362579,\n",
       " 'corr': 0.9751459091966196}"
      ]
     },
     "execution_count": 278,
     "metadata": {},
     "output_type": "execute_result"
    }
   ],
   "source": [
    "forecast_accuracy(test_output1[:12], test_data)"
   ]
  },
  {
   "cell_type": "code",
   "execution_count": null,
   "metadata": {},
   "outputs": [],
   "source": []
  },
  {
   "cell_type": "code",
   "execution_count": null,
   "metadata": {},
   "outputs": [],
   "source": []
  }
 ],
 "metadata": {
  "kernelspec": {
   "display_name": "Python 3",
   "language": "python",
   "name": "python3"
  },
  "language_info": {
   "codemirror_mode": {
    "name": "ipython",
    "version": 3
   },
   "file_extension": ".py",
   "mimetype": "text/x-python",
   "name": "python",
   "nbconvert_exporter": "python",
   "pygments_lexer": "ipython3",
   "version": "3.7.4"
  }
 },
 "nbformat": 4,
 "nbformat_minor": 4
}
